{
 "cells": [
  {
   "cell_type": "markdown",
   "metadata": {},
   "source": [
    "# List initialization"
   ]
  },
  {
   "cell_type": "code",
   "execution_count": null,
   "metadata": {},
   "outputs": [],
   "source": [
    "int a{7};"
   ]
  },
  {
   "cell_type": "code",
   "execution_count": null,
   "metadata": {},
   "outputs": [],
   "source": [
    "int x = a{7};"
   ]
  },
  {
   "cell_type": "code",
   "execution_count": null,
   "metadata": {},
   "outputs": [],
   "source": [
    "vector<int> v{1,2,3,4,5};"
   ]
  },
  {
   "cell_type": "markdown",
   "metadata": {},
   "source": [
    "# Constructor call"
   ]
  },
  {
   "cell_type": "code",
   "execution_count": null,
   "metadata": {},
   "outputs": [],
   "source": [
    "int b(17)"
   ]
  },
  {
   "cell_type": "markdown",
   "metadata": {},
   "source": [
    "# Pointers\n",
    "Pointers store memory address of an object\n",
    "* Can be assigned and copied\n",
    "* Has an address\n",
    "* Can be declared without initialization, but then it gets an undefined value, as do other variables\n",
    "\n",
    "Four possible states:\n",
    "* Point to an object\n",
    "* Point to the address immediately past the end of an object\n",
    "* Point to nothing\n",
    "* Invalid\n",
    "\n",
    "Can be used as an integer value for comparisons."
   ]
  },
  {
   "cell_type": "code",
   "execution_count": null,
   "metadata": {},
   "outputs": [],
   "source": [
    "int *a; // pointer to int\n",
    "int* b; // pointer to int\n",
    "\n",
    "int* d, e; // d is a pointer, e is an int\n",
    "int* f, *g; // f and g are both pointers"
   ]
  },
  {
   "cell_type": "markdown",
   "metadata": {},
   "source": [
    "# Arrays\n",
    "An array does not know its size - programmer's responsibility. Can contain elements of any type."
   ]
  },
  {
   "cell_type": "code",
   "execution_count": null,
   "metadata": {},
   "outputs": [],
   "source": [
    "'Object name or primitive type' 'name'[size];"
   ]
  },
  {
   "cell_type": "code",
   "execution_count": null,
   "metadata": {},
   "outputs": [],
   "source": [
    "class Point{\n",
    "    signed char x;\n",
    "    signed char y;\n",
    "}\n",
    "\n",
    "Point ps[3];"
   ]
  }
 ],
 "metadata": {
  "language_info": {
   "name": "python"
  }
 },
 "nbformat": 4,
 "nbformat_minor": 2
}
